{
 "cells": [
  {
   "cell_type": "markdown",
   "metadata": {},
   "source": [
    "# MPI for Python (mpi4py)\n",
    "It allows the program to be parallely executed with messages being passed between nodes.\n",
    "\n",
    "After struggling with the installation, start the cluster with:\n",
    "\n",
    "ipcluster start --engines=MPI -n 4 [link](https://github.com/ipython/ipyparallel/blob/master/examples/Using%20MPI%20with%20IPython%20Parallel.ipynb)"
   ]
  },
  {
   "cell_type": "code",
   "execution_count": 1,
   "metadata": {
    "collapsed": false
   },
   "outputs": [],
   "source": [
    "import ipyparallel as ipp\n",
    "rc = ipp.Client()\n",
    "view = rc[:]"
   ]
  },
  {
   "cell_type": "code",
   "execution_count": 2,
   "metadata": {
    "collapsed": false
   },
   "outputs": [],
   "source": [
    "@view.remote(block=True)\n",
    "def mpi_rank():\n",
    "    from mpi4py import MPI\n",
    "    comm = MPI.COMM_WORLD\n",
    "    return comm.Get_rank()"
   ]
  },
  {
   "cell_type": "markdown",
   "metadata": {},
   "source": [
    "### test that is working"
   ]
  },
  {
   "cell_type": "code",
   "execution_count": 3,
   "metadata": {
    "collapsed": false
   },
   "outputs": [
    {
     "data": {
      "text/plain": [
       "[1, 2, 3, 0]"
      ]
     },
     "execution_count": 3,
     "metadata": {},
     "output_type": "execute_result"
    }
   ],
   "source": [
    "mpi_rank()\n"
   ]
  },
  {
   "cell_type": "code",
   "execution_count": 13,
   "metadata": {
    "collapsed": false
   },
   "outputs": [
    {
     "data": {
      "text/plain": [
       "{0: 0, 1: 1, 2: 2, 3: 3}"
      ]
     },
     "execution_count": 13,
     "metadata": {},
     "output_type": "execute_result"
    }
   ],
   "source": [
    "mpi_rank.block = False\n",
    "ar = mpi_rank()\n",
    "ar.get_dict()"
   ]
  },
  {
   "cell_type": "markdown",
   "metadata": {},
   "source": [
    "With %%px cell magic, the next cell will actually execute entirely on each engine"
   ]
  },
  {
   "cell_type": "code",
   "execution_count": 14,
   "metadata": {
    "collapsed": false
   },
   "outputs": [
    {
     "data": {
      "text/plain": [
       "\u001b[0;31mOut[0:2]: \u001b[0m{'data': 1, 'rank': 0}"
      ]
     },
     "metadata": {},
     "output_type": "display_data"
    },
    {
     "data": {
      "text/plain": [
       "\u001b[0;31mOut[1:2]: \u001b[0m{'data': 4, 'rank': 1}"
      ]
     },
     "metadata": {},
     "output_type": "display_data"
    },
    {
     "data": {
      "text/plain": [
       "\u001b[0;31mOut[2:2]: \u001b[0m{'data': 9, 'rank': 2}"
      ]
     },
     "metadata": {},
     "output_type": "display_data"
    },
    {
     "data": {
      "text/plain": [
       "\u001b[0;31mOut[3:2]: \u001b[0m{'data': 16, 'rank': 3}"
      ]
     },
     "metadata": {},
     "output_type": "display_data"
    }
   ],
   "source": [
    "%%px\n",
    "from mpi4py import MPI\n",
    "\n",
    "comm = MPI.COMM_WORLD\n",
    "size = comm.Get_size()\n",
    "rank = comm.Get_rank()\n",
    "\n",
    "if rank == 0:\n",
    "   data = [(i+1)**2 for i in range(size)]\n",
    "else:\n",
    "   data = None\n",
    "data = comm.scatter(data, root=0)\n",
    "\n",
    "assert data == (rank+1)**2, 'data=%s, rank=%s' % (data, rank)\n",
    "{\n",
    "    'data': data,\n",
    "    'rank': rank,\n",
    "}"
   ]
  },
  {
   "cell_type": "code",
   "execution_count": 32,
   "metadata": {
    "collapsed": false
   },
   "outputs": [
    {
     "name": "stdout",
     "output_type": "stream",
     "text": [
      "[stdout:0] \n",
      "nodes 4\n",
      "3\n",
      "[stdout:1] \n",
      "nodes 4\n",
      "0\n",
      "[stdout:2] \n",
      "nodes 4\n",
      "2\n",
      "[stdout:3] \n",
      "nodes 4\n",
      "1\n"
     ]
    }
   ],
   "source": [
    "%%px\n",
    "from mpi4py import MPI\n",
    "comm=MPI.COMM_WORLD\n",
    "print 'nodes', MPI.COMM_WORLD.size\n",
    "rank = comm.rank\n",
    "print rank"
   ]
  },
  {
   "cell_type": "markdown",
   "metadata": {},
   "source": [
    "# Hello world!\n",
    "basic commands to communicate with the cluster"
   ]
  },
  {
   "cell_type": "markdown",
   "metadata": {},
   "source": [
    "### Accessors"
   ]
  },
  {
   "cell_type": "code",
   "execution_count": 33,
   "metadata": {
    "collapsed": false
   },
   "outputs": [
    {
     "name": "stdout",
     "output_type": "stream",
     "text": [
      "[stdout:0] Hello, World! I am process 3 of 4 on Joses-Mac.local\n",
      "[stdout:1] Hello, World! I am process 0 of 4 on Joses-Mac.local\n",
      "[stdout:2] Hello, World! I am process 2 of 4 on Joses-Mac.local\n",
      "[stdout:3] Hello, World! I am process 1 of 4 on Joses-Mac.local\n"
     ]
    }
   ],
   "source": [
    "%%px\n",
    "rank = MPI.COMM_WORLD.Get_rank()\n",
    "size = MPI.COMM_WORLD.Get_size()\n",
    "name = MPI.Get_processor_name()\n",
    "\n",
    "print (\"Hello, World! \"\n",
    "       \"I am process %d of %d on %s\" %\n",
    "       (rank, size, name))"
   ]
  },
  {
   "cell_type": "markdown",
   "metadata": {},
   "source": [
    "### Split the data"
   ]
  },
  {
   "cell_type": "code",
   "execution_count": 34,
   "metadata": {
    "collapsed": false
   },
   "outputs": [
    {
     "name": "stdout",
     "output_type": "stream",
     "text": [
      "[stdout:0] 3 77 3\n",
      "[stdout:1] 0 55 0\n",
      "[stdout:2] 2 77 2\n",
      "[stdout:3] 1 55 -1\n"
     ]
    }
   ],
   "source": [
    "%%px\n",
    "if rank < size//2:\n",
    "    color = 55\n",
    "    key = -rank\n",
    "else:\n",
    "    color = 77\n",
    "    key = +rank\n",
    "newcomm = MPI.COMM_WORLD.Split(color, key)\n",
    "newcomm.Free()\n",
    "print rank, color, key"
   ]
  },
  {
   "cell_type": "markdown",
   "metadata": {
    "collapsed": false
   },
   "source": [
    "### Exchange values\n",
    "use dest and source from and to where send values"
   ]
  },
  {
   "cell_type": "code",
   "execution_count": 35,
   "metadata": {
    "collapsed": false
   },
   "outputs": [
    {
     "name": "stdout",
     "output_type": "stream",
     "text": [
      "[stdout:0] 3 2 [3, 3, 3]\n",
      "[stdout:1] 0 3 [0, 0, 0]\n",
      "[stdout:2] 2 1 [2, 2, 2]\n",
      "[stdout:3] 1 0 [1, 1, 1]\n"
     ]
    }
   ],
   "source": [
    "%%px\n",
    "comm = MPI.COMM_WORLD\n",
    "\n",
    "sendmsg = [comm.rank]*3\n",
    "right = (comm.rank + 1) % comm.size\n",
    "left = (comm.rank - 1) % comm.size\n",
    "\n",
    "req1 = comm.isend(sendmsg, dest=right)\n",
    "req2 = comm.isend(sendmsg, dest=left)\n",
    "lmsg = comm.recv(source=left)\n",
    "rmsg = comm.recv(source=right)\n",
    "\n",
    "MPI.Request.Waitall([req1, req2])\n",
    "assert lmsg == [left] * 3\n",
    "assert rmsg == [right] * 3\n",
    "print comm.rank, left, sendmsg"
   ]
  },
  {
   "cell_type": "code",
   "execution_count": null,
   "metadata": {
    "collapsed": false
   },
   "outputs": [],
   "source": [
    "%%px\n",
    "import numpy\n",
    "comm = MPI.COMM_WORLD\n",
    "assert comm.size == 2\n",
    "\n",
    "if comm.rank == 0:\n",
    "    array1 = numpy.arange(10000, dtype='f')\n",
    "    array2 = numpy.empty(10000, dtype='f')\n",
    "    target = 1\n",
    "else:\n",
    "    array1 = numpy.ones(10000, dtype='f')\n",
    "    array2 = numpy.empty(10000, dtype='f')\n",
    "    target = 0\n",
    "\n",
    "request = comm.Isend([array1, MPI.FLOAT], dest=target)\n",
    "comm.Recv([array2, MPI.FLOAT], source=target)\n",
    "request.Wait()"
   ]
  },
  {
   "cell_type": "markdown",
   "metadata": {},
   "source": [
    "### Broadcast\n",
    "(one to all)"
   ]
  },
  {
   "cell_type": "code",
   "execution_count": 16,
   "metadata": {
    "collapsed": false
   },
   "outputs": [
    {
     "name": "stdout",
     "output_type": "stream",
     "text": [
      "[stdout:0] 0 (7, 'abc', [1.0, (2+3j)], {3: 4})\n",
      "[stdout:1] 1 (7, 'abc', [1.0, (2+3j)], {3: 4})\n",
      "[stdout:2] 2 (7, 'abc', [1.0, (2+3j)], {3: 4})\n",
      "[stdout:3] 3 (7, 'abc', [1.0, (2+3j)], {3: 4})\n"
     ]
    }
   ],
   "source": [
    "%%px\n",
    "comm = MPI.COMM_WORLD\n",
    "\n",
    "if comm.rank == 0:\n",
    "    sendmsg = (7, \"abc\", [1.0,2+3j], {3:4})\n",
    "else:\n",
    "    sendmsg = None\n",
    "\n",
    "recvmsg = comm.bcast(sendmsg, root=0)\n",
    "print comm.rank, recvmsg"
   ]
  },
  {
   "cell_type": "markdown",
   "metadata": {
    "collapsed": true
   },
   "source": [
    "### Scatter"
   ]
  },
  {
   "cell_type": "code",
   "execution_count": 18,
   "metadata": {
    "collapsed": false
   },
   "outputs": [
    {
     "name": "stdout",
     "output_type": "stream",
     "text": [
      "[stdout:0] 0 0\n",
      "[stdout:1] 1 1\n",
      "[stdout:2] 2 4\n",
      "[stdout:3] 3 9\n"
     ]
    }
   ],
   "source": [
    "%%px\n",
    "comm = MPI.COMM_WORLD\n",
    "\n",
    "if comm.rank == 0:\n",
    "    sendmsg = [i**2 for i in range(comm.size)]\n",
    "else:\n",
    "    sendmsg = None\n",
    "\n",
    "recvmsg = comm.scatter(sendmsg, root=0)\n",
    "print comm.rank, recvmsg"
   ]
  },
  {
   "cell_type": "markdown",
   "metadata": {
    "collapsed": true
   },
   "source": [
    "### Gather & Gather to All"
   ]
  },
  {
   "cell_type": "code",
   "execution_count": 19,
   "metadata": {
    "collapsed": false
   },
   "outputs": [
    {
     "name": "stdout",
     "output_type": "stream",
     "text": [
      "[stdout:0] 0 [0, 1, 4, 9] [0, 1, 4, 9]\n",
      "[stdout:1] 1 None [0, 1, 4, 9]\n",
      "[stdout:2] 2 None [0, 1, 4, 9]\n",
      "[stdout:3] 3 None [0, 1, 4, 9]\n"
     ]
    }
   ],
   "source": [
    "%%px\n",
    "comm = MPI.COMM_WORLD\n",
    "\n",
    "sendmsg = comm.rank**2\n",
    "\n",
    "recvmsg1 = comm.gather(sendmsg, root=0)\n",
    "recvmsg2 = comm.allgather(sendmsg)\n",
    "print comm.rank, recvmsg1, recvmsg2"
   ]
  },
  {
   "cell_type": "markdown",
   "metadata": {
    "collapsed": true
   },
   "source": [
    "### Reduce & Reduce to All"
   ]
  },
  {
   "cell_type": "code",
   "execution_count": 20,
   "metadata": {
    "collapsed": false
   },
   "outputs": [
    {
     "name": "stdout",
     "output_type": "stream",
     "text": [
      "[stdout:0] 0 0 6 6\n",
      "[stdout:1] 1 1 None 6\n",
      "[stdout:2] 2 2 None 6\n",
      "[stdout:3] 3 3 None 6\n"
     ]
    }
   ],
   "source": [
    "%%px\n",
    "comm = MPI.COMM_WORLD\n",
    "\n",
    "sendmsg = comm.rank\n",
    "\n",
    "recvmsg1 = comm.reduce(sendmsg, op=MPI.SUM, root=0)\n",
    "recvmsg2 = comm.allreduce(sendmsg)\n",
    "print comm.rank, sendmsg, recvmsg1, recvmsg2"
   ]
  },
  {
   "cell_type": "markdown",
   "metadata": {},
   "source": [
    "## Compute Pi"
   ]
  },
  {
   "cell_type": "code",
   "execution_count": 30,
   "metadata": {
    "collapsed": false
   },
   "outputs": [
    {
     "name": "stdout",
     "output_type": "stream",
     "text": [
      "[stdout:0] \n",
      "0 0.963863435985\n",
      "pi is approximately 3.1424259850010983, error is 0.0008333314113051\n",
      "[stdout:1] 1 0.908549442942\n",
      "[stdout:2] 2 0.657665667321\n",
      "[stdout:3] 3 0.612347438753\n"
     ]
    }
   ],
   "source": [
    "%%px\n",
    "import math\n",
    "\n",
    "def compute_pi(n, start=0, step=1):\n",
    "    h = 1.0 / n\n",
    "    s = 0.0\n",
    "    for i in range(start, n, step):\n",
    "        x = h * (i + 0.5)\n",
    "        s += 4.0 / (1.0 + x**2)\n",
    "    return s * h\n",
    "\n",
    "comm = MPI.COMM_WORLD\n",
    "nprocs = comm.Get_size()\n",
    "myrank = comm.Get_rank()\n",
    "\n",
    "if myrank == 0:\n",
    "    n = 10\n",
    "else:\n",
    "    n = None\n",
    "\n",
    "n = comm.bcast(n, root=0)\n",
    "\n",
    "mypi = compute_pi(n, myrank, nprocs)\n",
    "print myrank, mypi\n",
    "pi = comm.reduce(mypi, op=MPI.SUM, root=0)\n",
    "\n",
    "if myrank == 0:\n",
    "    error = abs(pi - math.pi)\n",
    "    print (\"pi is approximately %.16f, \"\n",
    "        \"error is %.16f\" % (pi, error))"
   ]
  },
  {
   "cell_type": "markdown",
   "metadata": {},
   "source": [
    "### an example\n",
    "Having a vector of size N an elements x_i, want to compute a function f to each element\n",
    "and return another vector of size N with values f(x_i)"
   ]
  },
  {
   "cell_type": "code",
   "execution_count": 71,
   "metadata": {
    "collapsed": false
   },
   "outputs": [
    {
     "name": "stdout",
     "output_type": "stream",
     "text": [
      "1 loop, best of 3: 5.57 s per loop\n"
     ]
    }
   ],
   "source": [
    "%%timeit\n",
    "%%px\n",
    "import numpy as np\n",
    "import scipy as sp\n",
    "from mpi4py import MPI\n",
    "\n",
    "def funct(x):\n",
    "    return np.random.normal(0., 1.0)\n",
    "\n",
    "def par_fucnt(N):\n",
    "    N= N\n",
    "    x = np.arange(N)\n",
    "    #print x, map(funct, x)\n",
    "\n",
    "    comm = MPI.COMM_WORLD\n",
    "    nprocs = comm.Get_size()\n",
    "    myrank = comm.Get_rank()\n",
    "\n",
    "\n",
    "    chunks = [[] for _ in np.arange(nprocs)]\n",
    "    n= np.ceil(float(len(x))/nprocs)\n",
    "\n",
    "    for i, chunk in enumerate(x):\n",
    "        chunks[int(i//n)].append(chunk)\n",
    "      \n",
    "    #print [map(funct, chuck) for chuck in chunks ]\n",
    "\n",
    "    scatter= comm.scatter(chunks, root=0)\n",
    "    result_per_node = map(funct, scatter)\n",
    "    result_gather   = comm.gather(result_per_node, root=0)\n",
    "\n",
    "    #final_result= np.array(result_gather)\n",
    "    #print final_result.flatten()  # only work if sublist have same # elements\n",
    "\n",
    "    if myrank == 0:\n",
    "        final_result = [item for sublist in result_gather for item in sublist]\n",
    "    else:\n",
    "        final_result = None\n",
    "\n",
    "    #print final_result \n",
    "    #print comm.rank, scatter, result_per_node\n",
    "    #print result_gather\n",
    "\n",
    "par_fucnt(1000000)"
   ]
  },
  {
   "cell_type": "code",
   "execution_count": 69,
   "metadata": {
    "collapsed": false
   },
   "outputs": [
    {
     "name": "stdout",
     "output_type": "stream",
     "text": [
      "1 loop, best of 3: 9.93 s per loop\n"
     ]
    }
   ],
   "source": [
    "%%timeit\n",
    "par_fucnt(1000000)"
   ]
  },
  {
   "cell_type": "code",
   "execution_count": 70,
   "metadata": {
    "collapsed": false
   },
   "outputs": [
    {
     "name": "stdout",
     "output_type": "stream",
     "text": [
      "1 loop, best of 3: 289 ms per loop\n"
     ]
    }
   ],
   "source": [
    "%%timeit \n",
    "x = np.arange(1000000)\n",
    "map(funct, x)"
   ]
  },
  {
   "cell_type": "code",
   "execution_count": 75,
   "metadata": {
    "collapsed": false
   },
   "outputs": [
    {
     "name": "stdout",
     "output_type": "stream",
     "text": [
      "[-1.0, -2.0]\n"
     ]
    }
   ],
   "source": [
    "\n",
    "def like(x):\n",
    "    return -((x[0])**2+(x[1])**2/1.0-1.5*x[0]*x[1])/2.0\n",
    "\n",
    "x = [(1, 2),(2,3)]\n",
    "print map(like, x)"
   ]
  },
  {
   "cell_type": "code",
   "execution_count": null,
   "metadata": {
    "collapsed": true
   },
   "outputs": [],
   "source": []
  }
 ],
 "metadata": {
  "kernelspec": {
   "display_name": "Python 2",
   "language": "python",
   "name": "python2"
  },
  "language_info": {
   "codemirror_mode": {
    "name": "ipython",
    "version": 2
   },
   "file_extension": ".py",
   "mimetype": "text/x-python",
   "name": "python",
   "nbconvert_exporter": "python",
   "pygments_lexer": "ipython2",
   "version": "2.7.11"
  }
 },
 "nbformat": 4,
 "nbformat_minor": 0
}
